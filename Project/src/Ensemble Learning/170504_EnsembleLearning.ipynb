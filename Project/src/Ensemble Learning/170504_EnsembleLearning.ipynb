{
 "cells": [
  {
   "cell_type": "code",
   "execution_count": null,
   "metadata": {
    "collapsed": true
   },
   "outputs": [],
   "source": [
    "import pickle\n",
    "\n",
    "#location of the pickle file written by snippets classifier \n",
    "snippets_pkl_loc = \"\"\n",
    "\n",
    "#location of the pickle file written by wikifier classifier \n",
    "wikifier_pkl_loc = \"\"\n",
    "\n",
    "#location of the pickle file written by NER classifier \n",
    "ner_pkl_loc = \"\"\n",
    "\n",
    "preds_from_snippets = pickle.load(open(snippets_pkl_loc,\"rb\"))\n",
    "preds_from_wikifier = pickle.load(open(wikifier_pkl_loc,\"rb\"))\n",
    "preds_from_NER = pickle.load(open(ner_pkl_loc,\"rb\"))\n",
    "\n",
    "\n",
    "def makeFinalPrediction(preds_from_snippets, preds_from_wikifier, preds_from_NER):\n",
    "    predicted_labels = []\n",
    "    \"\"\"\n",
    "    if (len(preds_from_snippets) not equals len(preds_from_wikifier)) or \\\n",
    "    (len(preds_from_snippets) not equals len(preds_from_NER)) or \n",
    "    (len(preds_from_NER) not equals len(preds_from_wikifier)):\n",
    "        return\n",
    "    else:\n",
    "    \"\"\"\n",
    "    length_of_test_instances = len(preds_from_wikifier)\n",
    "    for i in range(l):\n",
    "        if((preds_from_snippets[i][0] == preds_from_wikifier[i][0]) and (preds_from_snippets[i][0] == preds_from_NER[i][0])):\n",
    "            continue\n",
    "        else:\n",
    "            if (preds_from_snippets[i][1] equals preds_from_wikifier[i][1]):#snippets and wikifier agree on the label\n",
    "                predicted_labels.append(preds_from_snippets[i][1])\n",
    "            elif (preds_from_snippets[i][1] equals preds_from_NER[i][1]):#snippets and NER agree on the label\n",
    "                predicted_labels.append(preds_from_snippets[i][1])\n",
    "            elif (preds_from_wikifier[i][1] equals preds_from_NER[i][1]):#NER and wikifier agree on the label\n",
    "                predicted_labels.append(preds_from_wikifier[i][1])\n",
    "            else:#None of them agree on the label, so predict based in the confidence \n",
    "                if (preds_from_snippets[i][2] > preds_from_wikifier[i][2]) and (preds_from_snippets[i][2] > preds_from_NER[i][2]):\n",
    "                    predicted_labels.append(preds_from_snippets[i][1])\n",
    "                elif (preds_from_NER[i][2] > preds_from_wikifier[i][2]) and (preds_from_NER[i][2] > preds_from_snippets[i][2]):\n",
    "                    predicted_labels.append(preds_from_NER[i][1])\n",
    "                elif:\n",
    "                    predicted_labels.append(preds_from_wikifier[i][1])\n",
    "    return predicted_labels\n",
    "\n",
    "finalPreds = makeFinalPrediction(preds_from_snippets, preds_from_wikifier, preds_from_NER)\n",
    "pickle.dump(finalPreds, open(folderToSaveResultsFile + \"/\" + 'Snippets.pkl', 'wb'))"
   ]
  }
 ],
 "metadata": {
  "anaconda-cloud": {},
  "kernelspec": {
   "display_name": "Python [default]",
   "language": "python",
   "name": "python3"
  },
  "language_info": {
   "codemirror_mode": {
    "name": "ipython",
    "version": 3
   },
   "file_extension": ".py",
   "mimetype": "text/x-python",
   "name": "python",
   "nbconvert_exporter": "python",
   "pygments_lexer": "ipython3",
   "version": "3.5.2"
  }
 },
 "nbformat": 4,
 "nbformat_minor": 1
}
