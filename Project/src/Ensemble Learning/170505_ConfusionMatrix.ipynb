{
 "cells": [
  {
   "cell_type": "code",
   "execution_count": 10,
   "metadata": {
    "collapsed": false
   },
   "outputs": [
    {
     "name": "stdout",
     "output_type": "stream",
     "text": [
      "Empty DataFrame\n",
      "Columns: []\n",
      "Index: []\n",
      "Done\n"
     ]
    }
   ],
   "source": [
    "#build confusion matrix\n",
    "\n",
    "from collections import Counter\n",
    "import pandas as pd\n",
    "\n",
    "\"\"\"\n",
    "snippetsPicklePath = \"\"\n",
    "entityLinkPicklePath = \"\"\n",
    "nerPicklePath = \"\"\n",
    "wikifierPicklePath = \"\"\n",
    "\"\"\"\n",
    "\n",
    "def BuildConfusionMatrix(results1, results2, threshold):\n",
    "    unique_labels = sorted(set(results1[i][1] for i in range(len(results1) - 1)))\n",
    "    d = dict()\n",
    "\n",
    "    for label in unique_labels:\n",
    "        d.update({label : Counter()})\n",
    "    d.update({\"No\" : Counter()})\n",
    "    for i in range(len(results1)):\n",
    "        if results1[i][2] < threshold and  results2[i][2] > threshold:\n",
    "            d[\"No\"].update([results2[i][2]])\n",
    "        elif results1[i][2] > threshold and  results2[i][2] < threshold:\n",
    "            d[results1[i][2]].update([\"No\"])\n",
    "        elif results1[i][2] < threshold and  results2[i][2] < threshold:\n",
    "            d[\"No\"].update([\"No\"])\n",
    "        else:\n",
    "            d[results1[i]].update([results2[i]])\n",
    "    return pd.DataFrame(d, index=unique_labels, columns=unique_labels)\n",
    "\n",
    "results1 = {}\n",
    "results2 = {}\n",
    "cm_df = BuildConfusionMatrix(results1, results2, 0.2)\n",
    "print(cm_df)\n",
    "print(\"Done\")"
   ]
  }
 ],
 "metadata": {
  "anaconda-cloud": {},
  "kernelspec": {
   "display_name": "Python [default]",
   "language": "python",
   "name": "python3"
  },
  "language_info": {
   "codemirror_mode": {
    "name": "ipython",
    "version": 3
   },
   "file_extension": ".py",
   "mimetype": "text/x-python",
   "name": "python",
   "nbconvert_exporter": "python",
   "pygments_lexer": "ipython3",
   "version": "3.5.2"
  }
 },
 "nbformat": 4,
 "nbformat_minor": 1
}
