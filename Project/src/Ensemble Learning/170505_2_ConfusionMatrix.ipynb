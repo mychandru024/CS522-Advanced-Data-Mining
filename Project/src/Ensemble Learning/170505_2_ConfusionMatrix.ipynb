{
 "cells": [
  {
   "cell_type": "code",
   "execution_count": 12,
   "metadata": {
    "collapsed": false
   },
   "outputs": [
    {
     "ename": "FileNotFoundError",
     "evalue": "[Errno 2] No such file or directory: ''",
     "output_type": "error",
     "traceback": [
      "\u001b[0;31m---------------------------------------------------------------------------\u001b[0m",
      "\u001b[0;31mFileNotFoundError\u001b[0m                         Traceback (most recent call last)",
      "\u001b[0;32m<ipython-input-12-a86d00c42014>\u001b[0m in \u001b[0;36m<module>\u001b[0;34m()\u001b[0m\n\u001b[1;32m     32\u001b[0m     \u001b[0;32mreturn\u001b[0m \u001b[0mpd\u001b[0m\u001b[0;34m.\u001b[0m\u001b[0mDataFrame\u001b[0m\u001b[0;34m(\u001b[0m\u001b[0md\u001b[0m\u001b[0;34m,\u001b[0m \u001b[0mindex\u001b[0m\u001b[0;34m=\u001b[0m\u001b[0munique_labels\u001b[0m\u001b[0;34m,\u001b[0m \u001b[0mcolumns\u001b[0m\u001b[0;34m=\u001b[0m\u001b[0munique_labels\u001b[0m\u001b[0;34m)\u001b[0m\u001b[0;34m\u001b[0m\u001b[0m\n\u001b[1;32m     33\u001b[0m \u001b[0;34m\u001b[0m\u001b[0m\n\u001b[0;32m---> 34\u001b[0;31m \u001b[0mresults1\u001b[0m \u001b[0;34m=\u001b[0m \u001b[0mpickle\u001b[0m\u001b[0;34m.\u001b[0m\u001b[0mload\u001b[0m\u001b[0;34m(\u001b[0m\u001b[0mopen\u001b[0m\u001b[0;34m(\u001b[0m\u001b[0msnippetsPicklePath\u001b[0m\u001b[0;34m,\u001b[0m \u001b[0;34m'rb'\u001b[0m\u001b[0;34m)\u001b[0m\u001b[0;34m)\u001b[0m\u001b[0;34m\u001b[0m\u001b[0m\n\u001b[0m\u001b[1;32m     35\u001b[0m \u001b[0mresults2\u001b[0m \u001b[0;34m=\u001b[0m \u001b[0mpickle\u001b[0m\u001b[0;34m.\u001b[0m\u001b[0mload\u001b[0m\u001b[0;34m(\u001b[0m\u001b[0mopen\u001b[0m\u001b[0;34m(\u001b[0m\u001b[0mentityLinkPicklePath\u001b[0m\u001b[0;34m,\u001b[0m \u001b[0;34m'rb'\u001b[0m\u001b[0;34m)\u001b[0m\u001b[0;34m)\u001b[0m\u001b[0;34m\u001b[0m\u001b[0m\n\u001b[1;32m     36\u001b[0m \u001b[0mcm_df\u001b[0m \u001b[0;34m=\u001b[0m \u001b[0mBuildConfusionMatrix\u001b[0m\u001b[0;34m(\u001b[0m\u001b[0mresults1\u001b[0m\u001b[0;34m,\u001b[0m \u001b[0mresults2\u001b[0m\u001b[0;34m,\u001b[0m \u001b[0;36m0.2\u001b[0m\u001b[0;34m)\u001b[0m\u001b[0;34m\u001b[0m\u001b[0m\n",
      "\u001b[0;31mFileNotFoundError\u001b[0m: [Errno 2] No such file or directory: ''"
     ]
    }
   ],
   "source": [
    "#build confusion matrix\n",
    "\n",
    "from collections import Counter\n",
    "import pandas as pd\n",
    "import pickle\n",
    "\n",
    "\n",
    "snippetsPicklePath = \"\"\n",
    "entityLinkPicklePath = \"\"\n",
    "\"\"\"\n",
    "nerPicklePath = \"\"\n",
    "wikifierPicklePath = \"\"\n",
    "\"\"\"\n",
    "\n",
    "def BuildConfusionMatrix(results1, results2, threshold):\n",
    "    unique_labels = sorted(set(results1[i][1] for i in range(len(results1) - 1)))\n",
    "    d = dict()\n",
    "\n",
    "    for label in unique_labels:\n",
    "        d.update({label : Counter()})\n",
    "    d.update({\"No\" : Counter()})\n",
    "    for i in range(len(results1)):\n",
    "        if results1[i][0] == results2[i][0]:\n",
    "            if results1[i][2] < threshold and  results2[i][2] > threshold:\n",
    "                d[\"No\"].update([results2[i][2]])\n",
    "            elif results1[i][2] > threshold and  results2[i][2] < threshold:\n",
    "                d[results1[i][2]].update([\"No\"])\n",
    "            elif results1[i][2] < threshold and  results2[i][2] < threshold:\n",
    "                d[\"No\"].update([\"No\"])\n",
    "            else:\n",
    "                d[results1[i]].update([results2[i]])\n",
    "    return pd.DataFrame(d, index=unique_labels, columns=unique_labels)\n",
    "\n",
    "results1 = pickle.load(open(snippetsPicklePath, 'rb'))\n",
    "results2 = pickle.load(open(entityLinkPicklePath, 'rb'))\n",
    "cm_df = BuildConfusionMatrix(results1, results2, 0.2)\n",
    "print(cm_df)\n",
    "print(\"Done\")"
   ]
  }
 ],
 "metadata": {
  "anaconda-cloud": {},
  "kernelspec": {
   "display_name": "Python [default]",
   "language": "python",
   "name": "python3"
  },
  "language_info": {
   "codemirror_mode": {
    "name": "ipython",
    "version": 3
   },
   "file_extension": ".py",
   "mimetype": "text/x-python",
   "name": "python",
   "nbconvert_exporter": "python",
   "pygments_lexer": "ipython3",
   "version": "3.5.2"
  }
 },
 "nbformat": 4,
 "nbformat_minor": 1
}
