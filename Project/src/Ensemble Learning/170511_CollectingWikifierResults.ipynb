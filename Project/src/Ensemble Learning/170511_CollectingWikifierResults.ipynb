{
 "cells": [
  {
   "cell_type": "code",
   "execution_count": 40,
   "metadata": {
    "collapsed": false
   },
   "outputs": [
    {
     "name": "stdout",
     "output_type": "stream",
     "text": [
      "60\n",
      "Number of files :  9\n",
      "{'chi.098235568_00000328': {'p': 1, 'l': ['2CS_Education']}, 'uva.x001197927_00000431': {'p': 1, 'l': ['2CS_Architecture']}, 'chi.098235568_00000027': {'p': 1, 'l': ['2CS_Education']}, 'uc1.b3819355_00000223': {'p': 1, 'l': ['2CS_Architecture']}, 'chi.098235568_00000691': {'p': 1, 'l': ['CPS']}, 'mdp.39015062797538_00000431': {'p': 1, 'l': ['2CS_Architecture']}, 'uc1.b3819355_00000015': {'p': 1, 'l': ['2CS_Architecture']}, 'uiug.30112078740336_00000085': {'p': 1, 'l': ['2CS_Sociology']}, 'uc1.$b715276_00000106': {'p': 1, 'l': ['2CS_Architecture']}, 'chi.098235568_00000473': {'p': 1, 'l': ['CPS']}, 'mdp.39015064582888_00000425': {'p': 1, 'l': ['2CS_Architecture']}, 'chi.098235568_00000357': {'p': 1, 'l': ['CS_Economics']}, 'uc1.b3819355_00000233': {'p': 1, 'l': ['2CS_Sociology']}, 'uc1.b3819355_00000206': {'p': 1, 'l': ['2CS_Architecture']}, 'uc1.b3819355_00000302': {'p': 1, 'l': ['2CS_Architecture']}, 'nnc1.ar53666712_00000439': {'p': 1, 'l': ['2CS_Architecture']}}\n"
     ]
    }
   ],
   "source": [
    "from os import listdir\n",
    "import json\n",
    "import os.path\n",
    "\n",
    "#create pickle file of wikifier results\n",
    "bookJsonPath = \"/home/abc/ADM/JSON/\"\n",
    "\n",
    "\n",
    "#collecting labels from the file\n",
    "d = dict()\n",
    "with open(\"170509_chicago-schools-confusion.txt\",\"r\") as f:\n",
    "    lines = f.readlines()\n",
    "    print(len(lines))\n",
    "    for line in lines:\n",
    "        #print(line)\n",
    "        if line == \"\\n\":\n",
    "            continue\n",
    "        parts = line.split(\"\\t\")\n",
    "        if parts == None:\n",
    "            continue\n",
    "        d.update({parts[0] : parts[1].rstrip()})\n",
    "        #print(d)\n",
    "        #print(parts[0])\n",
    "        #print(parts[1])\n",
    "\n",
    "#collecting wikifier links from json files\n",
    "files_list = [f for f in listdir(bookJsonPath) if not f.startswith('.')]\n",
    "links = d.keys()\n",
    "\n",
    "final_result = dict()\n",
    "\n",
    "print(\"Number of files : \",len(files_list))\n",
    "\n",
    "for file in files_list:\n",
    "    with open(bookJsonPath  + file) as json_file:\n",
    "        book_json_data = json.load(json_file)\n",
    "        pages = book_json_data[\"pages\"]\n",
    "        for page in pages:\n",
    "            pageId = page[\"pid\"]\n",
    "            wikifier_results = page[\"wikifier\"]\n",
    "            check = False\n",
    "            for result in wikifier_results:\n",
    "                link = result[\"link\"]\n",
    "                if check == True:\n",
    "                    if link in links:\n",
    "                        iden = file.split(\".json\")[0] + \"_\" + pageId\n",
    "                        if iden in result.keys():\n",
    "                            #attrs = result[iden]\n",
    "                            #labels = attrs[\"l\"]\n",
    "                            final_result[iden][\"l\"].append(d[link])\n",
    "                            \n",
    "                        else:\n",
    "                            #l = list()\n",
    "                            #label = str(d[link])\n",
    "                            #l.append(label)\n",
    "                            final_result.update({ iden : { \"l\" : [d[link]], \"p\" : 1 } } )\n",
    "                    check = False\n",
    "                #text = result[\"text\"]\n",
    "                if link == None:\n",
    "                    check = True\n",
    "print(final_result)\n",
    "                \n"
   ]
  },
  {
   "cell_type": "code",
   "execution_count": null,
   "metadata": {
    "collapsed": true
   },
   "outputs": [],
   "source": []
  }
 ],
 "metadata": {
  "anaconda-cloud": {},
  "kernelspec": {
   "display_name": "Python [default]",
   "language": "python",
   "name": "python3"
  },
  "language_info": {
   "codemirror_mode": {
    "name": "ipython",
    "version": 3
   },
   "file_extension": ".py",
   "mimetype": "text/x-python",
   "name": "python",
   "nbconvert_exporter": "python",
   "pygments_lexer": "ipython3",
   "version": "3.5.2"
  }
 },
 "nbformat": 4,
 "nbformat_minor": 1
}
