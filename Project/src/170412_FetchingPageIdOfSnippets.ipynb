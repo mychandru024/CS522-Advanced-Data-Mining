{
 "cells": [
  {
   "cell_type": "code",
   "execution_count": 53,
   "metadata": {
    "collapsed": false
   },
   "outputs": [
    {
     "name": "stdout",
     "output_type": "stream",
     "text": [
      "Number of snippets generated :  23\n",
      "done\n"
     ]
    }
   ],
   "source": [
    "import json, os.path, string, io\n",
    "from os import listdir\n",
    "\n",
    "outputfolder=\"/home/abc/ADM/Snippets/\"\n",
    "jsonPath = \"/home/abc/ADM/JSON/\"\n",
    "\n",
    "snippets_file = open(\"/home/abc/ADM/NewData/snippets-example-chandra-2.json\")\n",
    "snippet_json = json.load(snippets_file)\n",
    "\n",
    "puncs = string.punctuation\n",
    "\n",
    "for item in snippet_json:\n",
    "    bookId = item[\"volId\"]\n",
    "    snippets = item[\"snippets\"]\n",
    "    snippets_with_page_id.update({bookId : {}})\n",
    "    #for snippet in snippets:\n",
    "    bookJson = bookId + \".json\"\n",
    "    if os.path.exists(jsonPath  + bookJson):\n",
    "        book_json_file = open(jsonPath  + bookJson)\n",
    "        book_json_data = json.load(book_json_file)\n",
    "        pages = book_json_data[\"pages\"]\n",
    "        for page in pages:\n",
    "            pageId = page[\"pid\"]\n",
    "            wikifier_results = page[\"wikifier\"]\n",
    "            for result in wikifier_results:\n",
    "                link = result[\"link\"]\n",
    "                text = result[\"text\"]\n",
    "                #print(\"text : \",text)\n",
    "                \"\"\"\n",
    "                for ch in puncs:\n",
    "                    if ch == \".\":\n",
    "                        text = text.replace(ch,\"\")\n",
    "                    else:\n",
    "                        text = text.replace(ch,\"\")\n",
    "                textLength = len(text.split(\" \"))\n",
    "                \"\"\"\n",
    "                text = text.replace(\"\\n\",\" \")\n",
    "                #if textLength == 6: problem when there are \"\\n\" in the text\n",
    "                if link == None:\n",
    "                    for snippet in snippets:\n",
    "                        \"\"\"\n",
    "                        print(\"Snippet : \",snippet)\n",
    "                        print()\n",
    "                        print(\"text : \",result[\"text\"])\n",
    "                        print()\n",
    "                        print(\"-------------------\")\n",
    "                        \"\"\"\n",
    "                        snippet_mod = snippet.replace(\"\\n\",\" \")\n",
    "                        \"\"\"\n",
    "                        for ch in puncs:\n",
    "                                snippet = text.replace(ch,\"\")\n",
    "                        snippet = snippet.replace(\"\\n\",\" \")\n",
    "                        \"\"\"\n",
    "                        if text in snippet_mod:\n",
    "                            #snippet_new = snippet.replace(\"\\n\",\" \")\n",
    "                            for ch in puncs:\n",
    "                                snippet_mod = snippet_mod.replace(ch,\"\")\n",
    "                                \n",
    "                            fileName = outputfolder + bookId + \"_\" + pageId + \".txt\"\n",
    "                            with io.open(fileName,'w+',encoding='utf-8') as writeFile:\n",
    "                                #print(\"Snippet Length : \",len(snippet))\n",
    "                                writeFile.write(snippet)\n",
    "    else:\n",
    "        continue\n",
    "        #print(\"File not present : \",bookJson)\n",
    "\n",
    "snippet_list = [f for f in listdir(outputfolder)]\n",
    "print(\"Number of snippets generated : \",len(snippet_list))\n",
    "print(\"done\")"
   ]
  }
 ],
 "metadata": {
  "anaconda-cloud": {},
  "kernelspec": {
   "display_name": "Python [default]",
   "language": "python",
   "name": "python3"
  },
  "language_info": {
   "codemirror_mode": {
    "name": "ipython",
    "version": 3
   },
   "file_extension": ".py",
   "mimetype": "text/x-python",
   "name": "python",
   "nbconvert_exporter": "python",
   "pygments_lexer": "ipython3",
   "version": "3.5.2"
  }
 },
 "nbformat": 4,
 "nbformat_minor": 1
}
